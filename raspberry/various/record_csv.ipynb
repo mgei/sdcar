{
 "cells": [
  {
   "cell_type": "code",
   "execution_count": 1,
   "metadata": {},
   "outputs": [],
   "source": [
    "import time\n",
    "import random\n",
    "import csv"
   ]
  },
  {
   "cell_type": "code",
   "execution_count": null,
   "metadata": {},
   "outputs": [],
   "source": [
    "count = 1\n",
    "\n",
    "#log_line_template = \"{i1};{i2}\\n\"\n",
    "filename = \"example.csv\"\n",
    "\n",
    "try:\n",
    "    with open(filename, \"w\", 1) as result: # last argument is buffering, 1 = line buffering\n",
    "        result.write(\"count; sensor \\n\")\n",
    "\n",
    "        while True:\n",
    "            count, sensor = count, random.randint(1,100)\n",
    "            result.write(str(count) + \";\" + str(sensor) + \"\\n\")\n",
    "            #result.write(log_line_template.format(\n",
    "            #    count, sensor\n",
    "            #))\n",
    "            time.sleep(1)\n",
    "            count += 1\n",
    "except KeyboardInterrupt:\n",
    "    result.close()\n",
    "    pass"
   ]
  }
 ],
 "metadata": {
  "kernelspec": {
   "display_name": "Python 2",
   "language": "python",
   "name": "python2"
  },
  "language_info": {
   "codemirror_mode": {
    "name": "ipython",
    "version": 2
   },
   "file_extension": ".py",
   "mimetype": "text/x-python",
   "name": "python",
   "nbconvert_exporter": "python",
   "pygments_lexer": "ipython2",
   "version": "2.7.13"
  }
 },
 "nbformat": 4,
 "nbformat_minor": 2
}
