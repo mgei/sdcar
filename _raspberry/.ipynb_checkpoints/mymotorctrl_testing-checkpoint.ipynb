{
 "cells": [
  {
   "cell_type": "code",
   "execution_count": 88,
   "metadata": {},
   "outputs": [],
   "source": [
    "import RPi.GPIO as GPIO\n",
    "import pygame\n",
    "import spidev\n",
    "\n",
    "class Car:\n",
    "    \n",
    "    def __init__(self, fstate, bstate, rstate, lstate):\n",
    "        self.fstate = fstate\n",
    "        self.bstate = bstate\n",
    "        self.rstate = rstate\n",
    "        self.lstate = lstate\n",
    "        \n",
    "        self.drivemotor = [22, 18, 16] # enable, in1, in2\n",
    "        self.steermotor = [15, 13, 11]\n",
    "        \n",
    "        self.llim = 400 # default values, may be changed once instance is created\n",
    "        self.rlim = 600\n",
    "        \n",
    "        self.initialized = False\n",
    "        \n",
    "    def initialize(self):\n",
    "        GPIO.setmode(GPIO.BOARD)\n",
    "        \n",
    "        # drive\n",
    "        GPIO.setup(self.drivemotor[0], GPIO.OUT)\n",
    "        GPIO.setup(self.drivemotor[1], GPIO.OUT)\n",
    "        GPIO.setup(self.drivemotor[2], GPIO.OUT)\n",
    "        \n",
    "        self.pwm_drive = GPIO.PWM(self.drivemotor[0], 100)\n",
    "        \n",
    "        # steer\n",
    "        GPIO.setup(self.steermotor[0], GPIO.OUT)\n",
    "        GPIO.setup(self.steermotor[1], GPIO.OUT)\n",
    "        GPIO.setup(self.steermotor[2], GPIO.OUT)\n",
    "        \n",
    "        self.pwm_steer = GPIO.PWM(self.steermotor[0], 100)\n",
    "        \n",
    "        # potentiometer for steering delimiter\n",
    "        spi = spidev.SpiDev()\n",
    "        spi.open(0,0) \n",
    "        \n",
    "        self.initialized = True\n",
    "        \n",
    "    def drive(self, direction, speed = 80):\n",
    "        if not self.initialized:\n",
    "            self.initialize()\n",
    "        \n",
    "        if direction == 'f':\n",
    "            GPIO.output(self.drivemotor[1], True)\n",
    "            GPIO.output(self.drivemotor[2], False)\n",
    "            self.pwm_drive.start(speed)\n",
    "        elif direction == 'b':\n",
    "            GPIO.output(self.drivemotor[1], False)\n",
    "            GPIO.output(self.drivemotor[2], True)\n",
    "            self.pwm_drive.start(speed)\n",
    "        elif direction == '':\n",
    "            GPIO.output(self.drivemotor[1], False)\n",
    "            GPIO.output(self.drivemotor[2], False)\n",
    "            self.pwm_drive.stop()\n",
    "            \n",
    "    def steer(self, direction, speed = 100):\n",
    "        if not self.initialized:\n",
    "            self.initialize()\n",
    "        \n",
    "        if direction == 'l':\n",
    "            GPIO.output(self.steermotor[1], True)\n",
    "            GPIO.output(self.steermotor[2], False)\n",
    "            self.pwm_steer.start(speed)\n",
    "        elif direction == 'r':\n",
    "            GPIO.output(self.steermotor[1], False)\n",
    "            GPIO.output(self.steermotor[2], True)\n",
    "            self.pwm_steer.start(speed)\n",
    "        elif direction == '':\n",
    "            GPIO.output(self.steermotor[1], False)\n",
    "            GPIO.output(self.steermotor[2], False)\n",
    "            self.pwm_steer.stop()\n",
    "            \n",
    "    def potentiometer(self, channel = 0):\n",
    "        spi.max_speed_hz = 1350000\n",
    "        adc = spi.xfer2([1,(8+channel)<<4,0])\n",
    "        data = ((adc[1]&3) << 8) + adc[2]\n",
    "        return data\n",
    "        \n",
    "    def limitleft(self):\n",
    "        if self.potentiometer < self.llim:\n",
    "            return 1\n",
    "        \n",
    "    def limitright(self):\n",
    "        if self.potentiometer > self.rlim:\n",
    "            return 1\n",
    "        \n",
    "    def forward(self):\n",
    "        # check if already driving\n",
    "        if not self.fstate and not self.bstate:\n",
    "            # it's stationary, start going forward\n",
    "            print('go forward')\n",
    "            self.drive(direction = 'f')\n",
    "            self.fstate = 1\n",
    "        elif self.fstate and not self.bstate:\n",
    "            # it's already going forward, do nothing\n",
    "            pass\n",
    "        elif not self.fstate and self.bstate:\n",
    "            # it's currently going backward, stop that and go forward instead\n",
    "            print('stop go backward')\n",
    "            self.drive(direction = '')\n",
    "            self.bstate = 0\n",
    "            print('go forward')\n",
    "            self.drive(direction = 'f')\n",
    "            self.fstate = 1\n",
    "        elif self.fstate and self.bstate:\n",
    "            # both true, should not happen\n",
    "            print('error: going forward and backward at the same time')\n",
    "            self.drive(direction = '')\n",
    "            \n",
    "    def backward(self):\n",
    "        # check if already driving\n",
    "        if not self.fstate and not self.bstate:\n",
    "            # it's stationary, start going backward\n",
    "            print('go backward')\n",
    "            self.drive(direction = 'b')\n",
    "            self.bstate = 1\n",
    "        elif not self.fstate and self.bstate:\n",
    "            # it's already going backward, do nothing\n",
    "            pass\n",
    "        elif self.fstate and not self.bstate:\n",
    "            # it's currently going forward, stop that and go backward instead\n",
    "            print('stop go forward')\n",
    "            self.drive(direction = '')\n",
    "            self.fstate = 0\n",
    "            print('go backward')\n",
    "            self.drive(direction = 'b')\n",
    "            self.bstate = 1\n",
    "        elif self.fstate and self.bstate:\n",
    "            # both true, should not happen\n",
    "            print('error: going forward and backward at the same time')\n",
    "            self.drive(direction = '')\n",
    "            \n",
    "    def stopdrive(self):\n",
    "        # check if actually driving\n",
    "        if not self.fstate and not self.bstate:\n",
    "            # it's stationary, as we want\n",
    "            pass\n",
    "        elif self.fstate and not self.bstate:\n",
    "            # it's going forward, stop it\n",
    "            print('stop go forward')\n",
    "            self.drive(direction = '')\n",
    "            self.fstate = 0\n",
    "        elif not self.fstate and self.bstate:\n",
    "            # it's going backward, stop it\n",
    "            print('stop go backward')\n",
    "            self.drive(direction = '')\n",
    "            self.bstate = 0\n",
    "        elif self.fstate and self.bstate:\n",
    "            # both true, should not happen\n",
    "            print('error: going forward and backward at the same time')\n",
    "            self.drive(direction = '')\n",
    "            \n",
    "    def left(self):\n",
    "        if self.limitleft():\n",
    "            # it in leftlimit, stop steering left immediately\n",
    "            print('stop steer left due to steering limit')\n",
    "            self.steer(direction = '')\n",
    "            self.lstate = 0\n",
    "        else:\n",
    "            # check if already steering\n",
    "            if not self.lstate and not self.rstate:\n",
    "                # it's not steering, start steering left\n",
    "                print('steer left')\n",
    "                self.steer(direction = 'l')\n",
    "                self.lstate = 1\n",
    "            elif self.lstate and not self.rstate:\n",
    "                # it's already steering left, do nothing\n",
    "                pass\n",
    "            elif not self.lstate and self.rstate:\n",
    "                # it's currently steering right, stop that and steer left instead\n",
    "                print('stop steer right')\n",
    "                self.steer(direction = '')\n",
    "                self.rstate = 0\n",
    "                print('steer left')\n",
    "                self.steer(direction = 'l')\n",
    "                self.lstate = 1\n",
    "            elif self.lstate and self.rstate:\n",
    "                # both true, should not happen\n",
    "                print('error: steering both directions the same time')\n",
    "                self.steer(direction = '')\n",
    "            \n",
    "    def right(self):\n",
    "        if self.limitright():\n",
    "            # it in leftlimit, stop steering right immediately\n",
    "            print('stop steer right due to steering limit')\n",
    "            self.steer(direction = '')\n",
    "            self.rstate = 0\n",
    "        else:\n",
    "            # check if already steering\n",
    "            if not self.lstate and not self.rstate:\n",
    "                # it's not steering, start steering right\n",
    "                print('steer right')\n",
    "                self.steer(direction = 'r')\n",
    "                self.rstate = 1\n",
    "            elif not self.lstate and self.rstate:\n",
    "                # it's already steering right, do nothing\n",
    "                pass\n",
    "            elif self.lstate and not self.rstate:\n",
    "                # it's currently steering left, stop that and steer right instead\n",
    "                print('stop steer left')\n",
    "                self.steer(direction = '')\n",
    "                self.lstate = 0\n",
    "                print('steer right')\n",
    "                self.steer(direction = 'r')\n",
    "                self.rstate = 1\n",
    "            elif self.lstate and self.rstate:\n",
    "                # both true, should not happen\n",
    "                print('error: steering both directions the same time')\n",
    "                self.steer(direction = '')\n",
    "            \n",
    "    def stopsteer(self):\n",
    "        # check if actually steering\n",
    "        if not self.lstate and not self.rstate:\n",
    "            # it's not steering, as we want\n",
    "            pass\n",
    "        elif self.lstate and not self.rstate:\n",
    "            # it's steering left, stop it\n",
    "            print('stop steer left')\n",
    "            self.steer(direction = '')\n",
    "            self.lstate = 0\n",
    "        elif not self.lstate and self.rstate:\n",
    "            # it's steering right, stop it\n",
    "            print('stop steer right')\n",
    "            self.steer(direction = '')\n",
    "            self.rstate = 0\n",
    "        elif self.fstate and self.bstate:\n",
    "            # both true, should not happen\n",
    "            print('error: steering both directions at the same time')\n",
    "            self.steer(direction = '')\n",
    "            \n",
    "    def move(self, drive, steer):    \n",
    "        if drive == 'f':\n",
    "            self.forward()\n",
    "        elif drive == 'b':\n",
    "            self.backward()\n",
    "        elif drive == '':\n",
    "            self.stopdrive()\n",
    "            \n",
    "        if steer == 'l':\n",
    "            self.left()\n",
    "        elif steer == 'r':\n",
    "            self.right()\n",
    "        elif steer == '':\n",
    "            self.stopsteer()\n",
    "            \n",
    "    def ignitionoff(self):\n",
    "        self.drive(direction = '')\n",
    "        self.steer(direction = '')\n",
    "        GPIO.cleanup()\n",
    "        \n",
    "        self.initialized = False\n",
    "            "
   ]
  },
  {
   "cell_type": "code",
   "execution_count": 89,
   "metadata": {},
   "outputs": [],
   "source": [
    "mycar = Car(0,0,0,0)"
   ]
  },
  {
   "cell_type": "code",
   "execution_count": 74,
   "metadata": {},
   "outputs": [],
   "source": [
    "import time"
   ]
  },
  {
   "cell_type": "code",
   "execution_count": 91,
   "metadata": {},
   "outputs": [
    {
     "name": "stdout",
     "output_type": "stream",
     "text": [
      "stop steer right due to steering limit\n"
     ]
    }
   ],
   "source": [
    "mycar.move('', 'r')\n",
    "time.sleep(0.4)\n",
    "mycar.move('', '')"
   ]
  },
  {
   "cell_type": "code",
   "execution_count": 37,
   "metadata": {},
   "outputs": [
    {
     "name": "stdout",
     "output_type": "stream",
     "text": [
      "stop steer right\n"
     ]
    }
   ],
   "source": [
    "mycar.move('', '')"
   ]
  },
  {
   "cell_type": "code",
   "execution_count": 15,
   "metadata": {},
   "outputs": [],
   "source": [
    "spi = spidev.SpiDev() # Created an object\n",
    "spi.open(0,0) "
   ]
  },
  {
   "cell_type": "code",
   "execution_count": 16,
   "metadata": {},
   "outputs": [],
   "source": [
    "# Read MCP3008 data\n",
    "def analogInput(channel):\n",
    "    spi.max_speed_hz = 1350000\n",
    "    adc = spi.xfer2([1,(8+channel)<<4,0])\n",
    "    data = ((adc[1]&3) << 8) + adc[2]\n",
    "    return data"
   ]
  },
  {
   "cell_type": "code",
   "execution_count": 80,
   "metadata": {},
   "outputs": [
    {
     "data": {
      "text/plain": [
       "349"
      ]
     },
     "execution_count": 80,
     "metadata": {},
     "output_type": "execute_result"
    }
   ],
   "source": [
    "mycar.potentiometer(0)"
   ]
  },
  {
   "cell_type": "code",
   "execution_count": 92,
   "metadata": {},
   "outputs": [],
   "source": [
    "mycar.ignitionoff()"
   ]
  },
  {
   "cell_type": "code",
   "execution_count": 87,
   "metadata": {},
   "outputs": [
    {
     "data": {
      "text/plain": [
       "518"
      ]
     },
     "execution_count": 87,
     "metadata": {},
     "output_type": "execute_result"
    }
   ],
   "source": [
    "analogInput(0)"
   ]
  },
  {
   "cell_type": "code",
   "execution_count": 3,
   "metadata": {},
   "outputs": [],
   "source": [
    "import gpiozero\n",
    "\n",
    "#poti = gpiozero.MCP3008 (channel = 0)\n",
    "\n",
    "#while True :\n",
    "# wert =  int((poti.raw_value / 1023) * 1000)\n",
    "# print (\"Der Poti steht auf\" , wert , \"Ohm\")\n",
    "# time.sleep (1)"
   ]
  },
  {
   "cell_type": "code",
   "execution_count": null,
   "metadata": {},
   "outputs": [
    {
     "name": "stderr",
     "output_type": "stream",
     "text": [
      "/usr/lib/python2.7/dist-packages/gpiozero/devices.py:279: PinFactoryFallback: Falling back from rpigpio: A different mode has already been set!\n",
      "  'Falling back from %s: %s' % (name, str(e))))\n",
      "/usr/lib/python2.7/dist-packages/gpiozero/devices.py:279: PinFactoryFallback: Falling back from rpio: No module named RPIO\n",
      "  'Falling back from %s: %s' % (name, str(e))))\n"
     ]
    }
   ],
   "source": [
    "from gpiozero import MCP3008\n",
    "\n",
    "pot = MCP3008()\n",
    "\n",
    "print(pot.value)"
   ]
  },
  {
   "cell_type": "code",
   "execution_count": 5,
   "metadata": {},
   "outputs": [
    {
     "data": {
      "text/plain": [
       "0.7098192476795311"
      ]
     },
     "execution_count": 5,
     "metadata": {},
     "output_type": "execute_result"
    }
   ],
   "source": [
    "poti.value"
   ]
  },
  {
   "cell_type": "code",
   "execution_count": 9,
   "metadata": {},
   "outputs": [
    {
     "data": {
      "text/plain": [
       "'2.7.13 (default, Sep 26 2018, 18:42:22) \\n[GCC 6.3.0 20170516]'"
      ]
     },
     "execution_count": 9,
     "metadata": {},
     "output_type": "execute_result"
    }
   ],
   "source": [
    "import sys\n",
    "\n",
    "sys.version"
   ]
  },
  {
   "cell_type": "code",
   "execution_count": 8,
   "metadata": {},
   "outputs": [],
   "source": [
    "GPIO.cleanup()"
   ]
  },
  {
   "cell_type": "code",
   "execution_count": 39,
   "metadata": {},
   "outputs": [],
   "source": [
    "import time\n",
    "\n",
    "time.sleep(0.2)"
   ]
  },
  {
   "cell_type": "code",
   "execution_count": null,
   "metadata": {},
   "outputs": [],
   "source": []
  }
 ],
 "metadata": {
  "kernelspec": {
   "display_name": "Python 2",
   "language": "python",
   "name": "python2"
  },
  "language_info": {
   "codemirror_mode": {
    "name": "ipython",
    "version": 2
   },
   "file_extension": ".py",
   "mimetype": "text/x-python",
   "name": "python",
   "nbconvert_exporter": "python",
   "pygments_lexer": "ipython2",
   "version": "2.7.13"
  }
 },
 "nbformat": 4,
 "nbformat_minor": 2
}
